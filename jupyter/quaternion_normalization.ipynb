{
 "cells": [
  {
   "cell_type": "code",
   "execution_count": 41,
   "metadata": {},
   "outputs": [
    {
     "name": "stdout",
     "output_type": "stream",
     "text": [
      "The autoreload extension is already loaded. To reload it, use:\n",
      "  %reload_ext autoreload\n"
     ]
    }
   ],
   "source": [
    "%load_ext autoreload\n",
    "%autoreload 2\n",
    "import numpy as np\n",
    "import sys\n",
    "sys.path.insert(0, '../src/')"
   ]
  },
  {
   "cell_type": "code",
   "execution_count": 42,
   "metadata": {},
   "outputs": [],
   "source": [
    "from quaternion import Quaternion, QuatNormTester"
   ]
  },
  {
   "cell_type": "markdown",
   "metadata": {},
   "source": [
    "### Test procedure for the evaluation of the proposed quaternion normalization method\n",
    "\n",
    "**Starting point**: one key difference between the applicability and accuracy of various normalization methods is the representation of the quaternion error (dynamics), which can be:\n",
    "- additive (which will be investigated here)\n",
    "- multiplicative (although the unity norm constraint will not be hurt, the formulation is generally more complex, thus the choice for the former)\n",
    "\n",
    "For _additive_ error dynamics, the straightforward way to ensure the unity norm constraint is to treat a quaternion as a vector of 4 elements which need to be normalized. However, this approach does not take into consideration the effect of the nonlinearity in the relationship between the components _s_  and  **w** of quaternion **q**. Thus, this brute-force approach will transform the error probability distribution p(**qerr**), resulting in a nonlinear relationship with the original expression.\n",
    "Considering the above, it is definitely _possible_ that this step introduces a submanifold, a subset of **Q^4**, which tends to be more error-prone than the other, resulting in a potential threat regarding applications with a high accuracy requirement.\n",
    "\n",
    "**Proposal:** COPY FROM MY NOTEBOOK\n",
    "\n",
    "\n",
    "**Test procedure:**\n",
    "- Cover the manifold of the quaternions by iterating over all angles (practically in **R^3**, i.e. converting from Euler-angles)\n",
    "- Add noise to the quaternion\n",
    "- Normalize (use different methods)\n",
    "- Calculate and compare error statistics\n",
    "\n",
    "- Hope that the proposed method is better"
   ]
  },
  {
   "cell_type": "code",
   "execution_count": 43,
   "metadata": {},
   "outputs": [],
   "source": [
    "QuatNormTester.coarse(coarse_step_deg=15)"
   ]
  },
  {
   "cell_type": "code",
   "execution_count": null,
   "metadata": {},
   "outputs": [],
   "source": []
  }
 ],
 "metadata": {
  "kernelspec": {
   "display_name": "Python 3",
   "language": "python",
   "name": "python3"
  },
  "language_info": {
   "codemirror_mode": {
    "name": "ipython",
    "version": 3
   },
   "file_extension": ".py",
   "mimetype": "text/x-python",
   "name": "python",
   "nbconvert_exporter": "python",
   "pygments_lexer": "ipython3",
   "version": "3.7.3"
  }
 },
 "nbformat": 4,
 "nbformat_minor": 2
}
